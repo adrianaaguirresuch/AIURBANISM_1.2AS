{
  "nbformat": 4,
  "nbformat_minor": 0,
  "metadata": {
    "colab": {
      "name": "ai urbanism_1.2assing.ipynb",
      "provenance": [],
      "authorship_tag": "ABX9TyMLlyxp/XxuQUG3yO33Gaa3",
      "include_colab_link": true
    },
    "kernelspec": {
      "name": "python3",
      "display_name": "Python 3"
    },
    "language_info": {
      "name": "python"
    }
  },
  "cells": [
    {
      "cell_type": "markdown",
      "metadata": {
        "id": "view-in-github",
        "colab_type": "text"
      },
      "source": [
        "<a href=\"https://colab.research.google.com/github/adrianaaguirresuch/AIURBANISM_1.2AS/blob/colab/ai_urbanism_1_2assing.ipynb\" target=\"_parent\"><img src=\"https://colab.research.google.com/assets/colab-badge.svg\" alt=\"Open In Colab\"/></a>"
      ]
    },
    {
      "cell_type": "markdown",
      "source": [
        "#The instalation of numpy==1.17 didn't work colab\n",
        "\n",
        "#!pip install numpy==1.17"
      ],
      "metadata": {
        "id": "9Eg-mtZSq7qo"
      }
    },
    {
      "cell_type": "code",
      "execution_count": 1,
      "metadata": {
        "colab": {
          "base_uri": "https://localhost:8080/"
        },
        "id": "IO-dK7HclKUg",
        "outputId": "19ef8f18-786f-4449-c2c5-2fff646b6233"
      },
      "outputs": [
        {
          "output_type": "stream",
          "name": "stdout",
          "text": [
            "1\n",
            "2\n"
          ]
        }
      ],
      "source": [
        "import numpy as np\n",
        "def rank_of_array(tug):\n",
        "    return np.ndim(tug)\n",
        "x = np.array([1, 2, 3])\n",
        "y = np.array([[1,2,3],[4,5,6]])\n",
        "print(rank_of_array(x))\n",
        "print(rank_of_array(y))\n"
      ]
    }
  ]
}